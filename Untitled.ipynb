{
 "cells": [
  {
   "cell_type": "markdown",
   "id": "221e0e28",
   "metadata": {},
   "source": [
    "## Employee and Production worker \n",
    "Write an  class that keeps data attributes for the following pieces of information:  Employee nameEmployee numberNext, write a class named  that is a subclass of the  class. The  class should keep data attributes for the following information:  Shift number (an integer, such as 1, 2, or 3)Hourly pay rateThe workday is divided into two shifts: day and night. The shift attribute will hold an integer value representing the shift that the employee works. The day shift is shift 1 and the night shift is shift 2. Write the appropriate accessor and mutator methods for each class.Once you have written the classes, write a program that creates an object of the  class and prompts the user to enter data for each of the object’s data attributes. Store the data in the object, then use the object’s accessor methods to retrieve it and display it on the screen.\n"
   ]
  },
  {
   "cell_type": "code",
   "execution_count": 16,
   "id": "0aa9e317",
   "metadata": {},
   "outputs": [
    {
     "name": "stdout",
     "output_type": "stream",
     "text": [
      "Enter the Name:alyssa\n",
      "Enter Employee number:345\n",
      "Enter shift number (1=day shift, 2=night shift)2\n",
      "Enter hourly pay rate:2\n",
      "\n",
      "Employee info:\n",
      "Name: alyssa\n"
     ]
    },
    {
     "ename": "AttributeError",
     "evalue": "'ProductionWorker' object has no attribute 'get_number'",
     "output_type": "error",
     "traceback": [
      "\u001b[0;31m---------------------------------------------------------------------------\u001b[0m",
      "\u001b[0;31mAttributeError\u001b[0m                            Traceback (most recent call last)",
      "Cell \u001b[0;32mIn[16], line 18\u001b[0m\n\u001b[1;32m     15\u001b[0m     \u001b[38;5;28mprint\u001b[39m(\u001b[38;5;124m\"\u001b[39m\u001b[38;5;124mShift number:\u001b[39m\u001b[38;5;124m\"\u001b[39m, employee\u001b[38;5;241m.\u001b[39mget_shift())\n\u001b[1;32m     16\u001b[0m     \u001b[38;5;28mprint\u001b[39m(\u001b[38;5;124m\"\u001b[39m\u001b[38;5;124mHourly Pay Rate:\u001b[39m\u001b[38;5;124m\"\u001b[39m, employee\u001b[38;5;241m.\u001b[39mget_payrate())\n\u001b[0;32m---> 18\u001b[0m \u001b[43mmain\u001b[49m\u001b[43m(\u001b[49m\u001b[43m)\u001b[49m\n",
      "Cell \u001b[0;32mIn[16], line 14\u001b[0m, in \u001b[0;36mmain\u001b[0;34m()\u001b[0m\n\u001b[1;32m     12\u001b[0m \u001b[38;5;28mprint\u001b[39m(\u001b[38;5;124m\"\u001b[39m\u001b[38;5;130;01m\\n\u001b[39;00m\u001b[38;5;124mEmployee info:\u001b[39m\u001b[38;5;124m\"\u001b[39m)\n\u001b[1;32m     13\u001b[0m \u001b[38;5;28mprint\u001b[39m(\u001b[38;5;124m\"\u001b[39m\u001b[38;5;124mName:\u001b[39m\u001b[38;5;124m\"\u001b[39m, employee\u001b[38;5;241m.\u001b[39mget_name())\n\u001b[0;32m---> 14\u001b[0m \u001b[38;5;28mprint\u001b[39m(\u001b[38;5;124m\"\u001b[39m\u001b[38;5;124mEmployee Number:\u001b[39m\u001b[38;5;124m\"\u001b[39m, \u001b[43memployee\u001b[49m\u001b[38;5;241;43m.\u001b[39;49m\u001b[43mget_number\u001b[49m())\n\u001b[1;32m     15\u001b[0m \u001b[38;5;28mprint\u001b[39m(\u001b[38;5;124m\"\u001b[39m\u001b[38;5;124mShift number:\u001b[39m\u001b[38;5;124m\"\u001b[39m, employee\u001b[38;5;241m.\u001b[39mget_shift())\n\u001b[1;32m     16\u001b[0m \u001b[38;5;28mprint\u001b[39m(\u001b[38;5;124m\"\u001b[39m\u001b[38;5;124mHourly Pay Rate:\u001b[39m\u001b[38;5;124m\"\u001b[39m, employee\u001b[38;5;241m.\u001b[39mget_payrate())\n",
      "\u001b[0;31mAttributeError\u001b[0m: 'ProductionWorker' object has no attribute 'get_number'"
     ]
    }
   ],
   "source": [
    "import employeemodule \n",
    "\n",
    "def main():\n",
    "    name = input(\"Enter the Name:\")\n",
    "    number= input(\"Enter Employee number:\")\n",
    "    \n",
    "    shift= input(\"Enter shift number (1=day shift, 2=night shift)\")\n",
    "    payrate= input(\"Enter hourly pay rate:\")\n",
    "    \n",
    "    employee= ProductionWorker(name, number, shift, payrate)\n",
    "    \n",
    "    print(\"\\nEmployee info:\")\n",
    "    print(\"Name:\", employee.get_name())\n",
    "    print(\"Employee Number:\", employee.get_number())\n",
    "    print(\"Shift number:\", employee.get_shift())\n",
    "    print(\"Hourly Pay Rate:\", employee.get_payrate())\n",
    "\n",
    "main()"
   ]
  },
  {
   "cell_type": "code",
   "execution_count": null,
   "id": "ede6ce76",
   "metadata": {},
   "outputs": [],
   "source": []
  }
 ],
 "metadata": {
  "kernelspec": {
   "display_name": "Python 3 (ipykernel)",
   "language": "python",
   "name": "python3"
  },
  "language_info": {
   "codemirror_mode": {
    "name": "ipython",
    "version": 3
   },
   "file_extension": ".py",
   "mimetype": "text/x-python",
   "name": "python",
   "nbconvert_exporter": "python",
   "pygments_lexer": "ipython3",
   "version": "3.10.9"
  }
 },
 "nbformat": 4,
 "nbformat_minor": 5
}
