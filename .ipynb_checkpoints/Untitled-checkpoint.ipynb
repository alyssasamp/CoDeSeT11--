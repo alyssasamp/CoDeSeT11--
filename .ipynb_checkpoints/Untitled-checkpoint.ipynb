{
 "cells": [
  {
   "cell_type": "markdown",
   "id": "5cdd2257",
   "metadata": {},
   "source": [
    "## Employee and Production worker \n",
    "Write an  class that keeps data attributes for the following pieces of information:  Employee nameEmployee numberNext, write a class named  that is a subclass of the  class. The  class should keep data attributes for the following information:  Shift number (an integer, such as 1, 2, or 3)Hourly pay rateThe workday is divided into two shifts: day and night. The shift attribute will hold an integer value representing the shift that the employee works. The day shift is shift 1 and the night shift is shift 2. Write the appropriate accessor and mutator methods for each class.Once you have written the classes, write a program that creates an object of the  class and prompts the user to enter data for each of the object’s data attributes. Store the data in the object, then use the object’s accessor methods to retrieve it and display it on the screen.\n"
   ]
  },
  {
   "cell_type": "code",
   "execution_count": null,
   "id": "a7e62ed7",
   "metadata": {},
   "outputs": [],
   "source": [
    "from employeemodule import ProductionWorker\n",
    "\n",
    "def main():   #main function\n",
    "    #label and assign each to the question asked \n",
    "    name= input(\"Enter the name:\")\n",
    "    emp_number= input(\"Enter employee number:\")\n",
    "    shift_number=int(input(\"Enter shift number: (1=day shift, 2=night shift):\")\n",
    "    hourly_pay_rate= input(\"Enter hourly pay rate:\")\n",
    "                     #store data in object \n",
    "    employee=ProductionWorker(name, emp_number, shift_number, hourly_pay_rate)\n",
    "\n",
    "#display the following information\n",
    "    print(\"\\nEmployee Information:\")\n",
    "    print(\"NAme:\", employee.get_name())\n",
    "    print(\"Employee number:\", employee.get_emp_number())\n",
    "    print(\"Shift number:\", employee.get_shift_number())\n",
    "    print(\"Hourly Pay Rate:\", employee.get_hourly_pay_rate())\n",
    "                     \n",
    "#finish calling main\n",
    "if __name__==\"__main__\":\n",
    "    main()"
   ]
  }
 ],
 "metadata": {
  "kernelspec": {
   "display_name": "Python 3 (ipykernel)",
   "language": "python",
   "name": "python3"
  },
  "language_info": {
   "codemirror_mode": {
    "name": "ipython",
    "version": 3
   },
   "file_extension": ".py",
   "mimetype": "text/x-python",
   "name": "python",
   "nbconvert_exporter": "python",
   "pygments_lexer": "ipython3",
   "version": "3.10.9"
  }
 },
 "nbformat": 4,
 "nbformat_minor": 5
}
