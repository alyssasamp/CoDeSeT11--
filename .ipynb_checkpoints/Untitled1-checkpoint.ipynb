{
 "cells": [
  {
   "cell_type": "markdown",
   "id": "e96f83aa",
   "metadata": {},
   "source": [
    "## Supervisor Shift problem 3 \n",
    "In a particular factory, a shift supervisor is a salaried employee who supervises a shift. In addition to a salary, the shift supervisor earns a yearly bonus when his or her shift meets production goals. Write a  class that is a subclass of the  class you created in Programming Exercise 1. The  class should keep a data attribute for the annual salary, and a data attribute for the annual production bonus that a shift supervisor has earned. Demonstrate the class by writing a program that uses a  object."
   ]
  },
  {
   "cell_type": "code",
   "execution_count": 1,
   "id": "2a94862f",
   "metadata": {},
   "outputs": [
    {
     "ename": "IndentationError",
     "evalue": "expected an indented block after function definition on line 2 (employee_salary.py, line 3)",
     "output_type": "error",
     "traceback": [
      "Traceback \u001b[0;36m(most recent call last)\u001b[0m:\n",
      "\u001b[0m  File \u001b[1;32m~/anaconda3/lib/python3.10/site-packages/IPython/core/interactiveshell.py:3460\u001b[0m in \u001b[1;35mrun_code\u001b[0m\n    exec(code_obj, self.user_global_ns, self.user_ns)\u001b[0m\n",
      "\u001b[0;36m  Cell \u001b[0;32mIn[1], line 1\u001b[0;36m\n\u001b[0;31m    from employee_salary import ShiftSupervisor  #Import module\u001b[0;36m\n",
      "\u001b[0;36m  File \u001b[0;32m~/Documents/GitHub/CoDeSeT11--/employee_salary.py:3\u001b[0;36m\u001b[0m\n\u001b[0;31m    self.name= name\u001b[0m\n\u001b[0m    ^\u001b[0m\n\u001b[0;31mIndentationError\u001b[0m\u001b[0;31m:\u001b[0m expected an indented block after function definition on line 2\n"
     ]
    }
   ],
   "source": [
    "from employee_salary import ShiftSupervisor  #Import module\n",
    "\n",
    "#call main function\n",
    "    if __name__==\"__main__\":\n",
    "    #Added information wanted and equaled it to supervisor , connecting it to module\n",
    "    supervisor= ShiftSupervisor(\"Kylie Smith\", \"45864\", 65000, 10000)\n",
    "    \n",
    "    #Display the info given \n",
    "    supervisor.display_info()\n",
    "    \n",
    "    #Display the calculations of the total income \n",
    "    totalincome= supervisor.calculate_total_income()\n",
    "    print(\"Total Income: ${totalincome}\")\n",
    "    \n",
    "\n"
   ]
  },
  {
   "cell_type": "code",
   "execution_count": null,
   "id": "d1802786",
   "metadata": {},
   "outputs": [],
   "source": []
  }
 ],
 "metadata": {
  "kernelspec": {
   "display_name": "Python 3 (ipykernel)",
   "language": "python",
   "name": "python3"
  },
  "language_info": {
   "codemirror_mode": {
    "name": "ipython",
    "version": 3
   },
   "file_extension": ".py",
   "mimetype": "text/x-python",
   "name": "python",
   "nbconvert_exporter": "python",
   "pygments_lexer": "ipython3",
   "version": "3.10.9"
  }
 },
 "nbformat": 4,
 "nbformat_minor": 5
}
