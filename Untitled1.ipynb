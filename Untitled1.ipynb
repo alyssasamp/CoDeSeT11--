{
 "cells": [
  {
   "cell_type": "markdown",
   "id": "b1e28af7",
   "metadata": {},
   "source": [
    "## Supervisor Shift problem 3 \n",
    "In a particular factory, a shift supervisor is a salaried employee who supervises a shift. In addition to a salary, the shift supervisor earns a yearly bonus when his or her shift meets production goals. Write a  class that is a subclass of the  class you created in Programming Exercise 1. The  class should keep a data attribute for the annual salary, and a data attribute for the annual production bonus that a shift supervisor has earned. Demonstrate the class by writing a program that uses a  object."
   ]
  },
  {
   "cell_type": "code",
   "execution_count": null,
   "id": "d8bade95",
   "metadata": {},
   "outputs": [],
   "source": [
    "from employee_salary import ShiftSupervisor  #Import module\n",
    "\n",
    "#call main function\n",
    "if __name__==\"__main__\":\n",
    "    #Added information wanted and equaled it to supervisor , connecting it to module\n",
    "    supervisor= ShiftSupervisor(\"Kylie Smith\", \"45864\", 65000, 10000)\n",
    "    \n",
    "    \n",
    "\n"
   ]
  }
 ],
 "metadata": {
  "kernelspec": {
   "display_name": "Python 3 (ipykernel)",
   "language": "python",
   "name": "python3"
  },
  "language_info": {
   "codemirror_mode": {
    "name": "ipython",
    "version": 3
   },
   "file_extension": ".py",
   "mimetype": "text/x-python",
   "name": "python",
   "nbconvert_exporter": "python",
   "pygments_lexer": "ipython3",
   "version": "3.10.9"
  }
 },
 "nbformat": 4,
 "nbformat_minor": 5
}
